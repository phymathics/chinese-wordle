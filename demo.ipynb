{
 "cells": [
  {
   "cell_type": "code",
   "execution_count": 3,
   "id": "dc53f17d-e2b8-4e96-962b-500ec9cc1228",
   "metadata": {},
   "outputs": [],
   "source": [
    "%config Completer.use_jedi = False"
   ]
  },
  {
   "cell_type": "code",
   "execution_count": 89,
   "id": "2f520ed5-2ef2-4164-8363-2678d4919f45",
   "metadata": {},
   "outputs": [
    {
     "name": "stdout",
     "output_type": "stream",
     "text": [
      "The autoreload extension is already loaded. To reload it, use:\n",
      "  %reload_ext autoreload\n"
     ]
    }
   ],
   "source": [
    "%load_ext autoreload\n",
    "%autoreload 2\n",
    "from wordle import *\n",
    "import pandas as pd\n",
    "from sparrow.performance import MeasureTime\n",
    "from sparrow import dict_topk\n",
    "from wordfreq import zipf_frequency"
   ]
  },
  {
   "cell_type": "code",
   "execution_count": null,
   "id": "554c75dc-094f-49fe-8e0e-d0101a1a8be2",
   "metadata": {},
   "outputs": [],
   "source": []
  },
  {
   "cell_type": "code",
   "execution_count": 20,
   "id": "045f438e-3dca-47e1-a614-30e290987ba8",
   "metadata": {},
   "outputs": [],
   "source": [
    "filename = \"datasets/idiom.json\"\n",
    "df =pd.read_json(filename)"
   ]
  },
  {
   "cell_type": "code",
   "execution_count": 79,
   "id": "a2297f31-fe9c-4dae-b7c0-c083705e9173",
   "metadata": {},
   "outputs": [],
   "source": [
    "df = pd.read_csv(\"datasets/words_freq.csv\")"
   ]
  },
  {
   "cell_type": "code",
   "execution_count": 81,
   "id": "98721ae4-1001-4341-8dee-4275c34286a1",
   "metadata": {},
   "outputs": [],
   "source": [
    "wordpinyin = df['key'][0]"
   ]
  },
  {
   "cell_type": "code",
   "execution_count": 82,
   "id": "5dd44059-c817-4276-b4d8-52671063409a",
   "metadata": {},
   "outputs": [
    {
     "data": {
      "text/plain": [
       "'无论如何:wú lùn rú hé'"
      ]
     },
     "execution_count": 82,
     "metadata": {},
     "output_type": "execute_result"
    }
   ],
   "source": [
    "wordpinyin"
   ]
  },
  {
   "cell_type": "code",
   "execution_count": 85,
   "id": "f3ada3c6-6c84-460a-8bcc-a720857be0f3",
   "metadata": {},
   "outputs": [],
   "source": [
    "from pypinyin.contrib.tone_convert import to_normal, to_tone, to_tone2, to_tone3"
   ]
  },
  {
   "cell_type": "code",
   "execution_count": 88,
   "id": "bcb3f086-e7df-4cfb-9b2e-b807c658f63f",
   "metadata": {},
   "outputs": [
    {
     "data": {
      "text/plain": [
       "'wu lun ru he2'"
      ]
     },
     "execution_count": 88,
     "metadata": {},
     "output_type": "execute_result"
    }
   ],
   "source": [
    "to_tone3(\"wú lùn rú hé\")"
   ]
  },
  {
   "cell_type": "code",
   "execution_count": 26,
   "id": "af9e38d2-6b31-48fa-a7cd-a75f68918cfd",
   "metadata": {},
   "outputs": [],
   "source": [
    "import matplotlib.pyplot as plt"
   ]
  },
  {
   "cell_type": "code",
   "execution_count": 30,
   "id": "64688dca-6011-4264-a07a-c18c825efb0a",
   "metadata": {},
   "outputs": [],
   "source": [
    "x = np.arange(1, len(df))"
   ]
  },
  {
   "cell_type": "code",
   "execution_count": 69,
   "id": "2c3bc7be-860e-447c-9c66-5dd21352af01",
   "metadata": {},
   "outputs": [],
   "source": []
  },
  {
   "cell_type": "code",
   "execution_count": 78,
   "id": "4395f62a-3126-495d-940e-de6d0f644cbe",
   "metadata": {},
   "outputs": [
    {
     "data": {
      "text/plain": [
       "[<matplotlib.lines.Line2D at 0x7f29b43f0ee0>]"
      ]
     },
     "execution_count": 78,
     "metadata": {},
     "output_type": "execute_result"
    },
    {
     "data": {
      "image/png": "[encoded data removed]",
      "text/plain": [
       "<Figure size 432x288 with 1 Axes>"
      ]
     },
     "metadata": {
      "needs_background": "light"
     },
     "output_type": "display_data"
    }
   ],
   "source": [
    "y = 4/x**0.1\n",
    "plt.plot(x, y)"
   ]
  },
  {
   "cell_type": "code",
   "execution_count": null,
   "id": "e529ab99-6412-40ff-a98c-de7e1341cb38",
   "metadata": {},
   "outputs": [],
   "source": []
  },
  {
   "cell_type": "code",
   "execution_count": 90,
   "id": "5d9ca6dc-5e64-47fd-ba90-c9dfcc345f0e",
   "metadata": {},
   "outputs": [],
   "source": [
    "hs = WordleSolver()"
   ]
  },
  {
   "cell_type": "code",
   "execution_count": 94,
   "id": "9da71de1-c960-4749-9e9c-bca991a87485",
   "metadata": {},
   "outputs": [],
   "source": [
    "words_entropy_dict, words_info_dict = hs.load_words_entropy_info_dict(12, 0, 2000)"
   ]
  },
  {
   "cell_type": "code",
   "execution_count": 97,
   "id": "f0cb5bff-8762-4e97-ade1-a4ff8fa10e5e",
   "metadata": {
    "collapsed": true,
    "jupyter": {
     "outputs_hidden": true
    },
    "tags": []
   },
   "outputs": [
    {
     "data": {
      "text/plain": [
       "dict_keys(['不可思议', '前所未有', '实事求是', '理所当然', '无能为力', '胡说八道', '一模一样', '成千上万', '众所周知', '显而易见', '不知不觉', '难以置信', '独一无二', '不知所以', '所作所为', '与众不同', '如此而已', '好好先生', '自我表现', '乱七八糟', '全心全意', '独立自主', '一无所有', '一无所知', '引人注目', '自然而然', '为所欲为', '莫名其妙', '道德文章', '千方百计', '黄金世界', '黄金时间', '公平交易', '意想不到', '截然不同', '花花公子', '自以为是', '无关紧要', '迫不及待', '总而言之', '天下一家', '各式各样', '无家可归', '史无前例', '微不足道', '随心所欲', '脱颖而出', '手无寸铁', '息息相关', '一如既往', '视而不见', '突然袭击', '和而不同', '表面文章', '小心翼翼', '取而代之', '市民文学', '十字路口', '一举一动', '当务之急', '大有作为', '相提并论', '独立王国', '下落不明', '不知所措', '可想而知', '层出不穷', '谢天谢地', '公平合理', '诸如此类', '没完没了', '有所作为', '革命反正', '逍遥法外', '挺身而出', '大惊小怪', '一年一度', '名列前茅', '轻而易举', '原来如此', '肆无忌惮', '根深蒂固', '不切实际', '无济于事', '自我牺牲', '马上房子', '不得不尔', '全力以赴', '讨价还价', '不顾一切', '大人先生', '大吃一惊', '罪魁祸首', '供不应求', '突如其来', '举足轻重', '不可教训', '从头到尾', '无动于衷', '大有人在', '想方设法', '不遗余力', '错综复杂', '自言自语', '天下第一', '轰轰烈烈', '有朝一日', '经济之才', '至高无上', '日许多时', '归根结底', '无法无天', '无缘无故', '习以为常', '坚定不移', '出乎意料', '不以为然', '当之无愧', '便宜从事', '无与伦比', '一席之地', '三位一体', '小时了了', '别有用心', '不择手段', '光天化日', '果然如此', '毛骨悚然', '拨乱反正', '随时随地', '新陈代谢', '一塌糊涂', '心甘情愿', '无所事事', '自始至终', '胡思乱想', '出人意料', '自给自足', '呼吸之间', '深思熟虑', '东西南北', '彼此彼此', '一成不变', '脚踏实地', '情不自禁', '游戏人间', '理直气壮', '十年读书', '袖手旁观', '一帆风顺', '梦寐以求', '百年之后', '竭尽全力', '何去何从', '日复一日', '一清二楚', '聪明智慧', '胡言乱语', '似曾相识', '名副其实', '混为一谈', '坚持不懈', '四面八方', '日新月异', '支离破碎', '因地制宜', '束手无策', '一视同仁', '忍无可忍', '应有尽有', '轻描淡写', '来龙去脉', '心中无数', '自力更生', '不由自主', '直接了当', '推波助澜', '事不过三', '一目了然', '阿弥陀佛', '大错特错', '货真价实', '丰富多彩', '自欺欺人', '摇摇欲坠', '幸灾乐祸', '恶性循环', '犹豫不决', '一生一代', '接二连三', '有生之年', '可见一斑', '字里行间', '家喻户晓', '一个半个', '针锋相对', '形形色色', '黄金时代', '自相矛盾', '兴高采烈', '平安无事', '久而久之', '无忧无虑', '出于意外', '一见钟情', '措手不及', '背道而驰', '无时无刻', '读书种子', '长治久安', '不得而知', '大张旗鼓', '先发制人', '发号施令', '命中注定', '焕然一新', '恍然大悟', '安然无恙', '脱口而出', '刻不容缓', '从天而降', '念念不忘', '绳之以法', '一定不易', '走投无路', '一事无成', '喜闻乐见', '一针见血', '齐心协力', '翻天覆地', '无可厚非', '自由自在', '漠不关心', '匪夷所思', '打击报复', '卷土重来', '置之不理', '若无其事', '大相径庭', '得天独厚', '天堂地狱', '一心一意', '口口声声', '恰到好处', '屡见不鲜', '迫在眉睫', '不知头脑', '无中生有', '心满意足', '旗帜鲜明', '饮食男女', '聪明智能', '不言而喻', '蛛丝马迹', '不了了之', '一无是处', '高才大学', '不管不顾', '装模作样', '如火如荼', '无可奈何', '合情合理', '突飞猛进', '忧心忡忡', '淋漓尽致', '大开眼界', '忘恩负义', '与日俱增', '一触即发', '力所能及', '以身作则', '直言不讳', '说来说去', '破口大骂', '应运而生', '风云人物', '大街小巷', '轩然大波', '持之以恒', '无足轻重', '无计可施', '一厢情愿', '与世隔绝', '发扬光大', '满不在乎', '适得其反', '成年古代', '耿耿于怀', '一路平安', '不堪一击', '勇往直前', '行尸走肉', '五颜六色', '感同身受', '白色恐怖', '不得人心', '骇人听闻', '一本正经', '热血沸腾', '比比皆是', '自相残杀', '分道扬镳', '来之不易', '拭目以待', '引人入胜', '直截了当', '不折不扣', '不闻不问', '沸沸扬扬', '千言万语', '不合时宜', '源源不断', '百花齐放', '后顾之忧', '绝无仅有', '雪上加霜', '有利可图', '大声疾呼', '惨不忍睹', '屈指可数', '人间天堂', '一干二净', '不了不当', '土生土长', '不可收拾', '高高在上', '无所畏惧', '一应俱全', '默默无闻', '安居乐业', '训练有素', '首当其冲', '格格不入', '烟消云散', '艰苦奋斗', '始终不易', '一丝不挂', '耳目一新', '循序渐进', '包罗万象', '无稽之谈', '与时消息', '五花八门', '大有文章', '一点一滴', '深入人心', '不屈不挠', '提心吊胆', '数一数二', '重蹈覆辙', '相辅相成', '顺理成章', '一网打尽', '深恶痛绝', '人才难得', '议论纷纷', '万无一失', '自生自灭', '摇身一变', '千千万万', '意料之外', '风起云涌', '百年好事', '一分为二', '四分五裂', '来回来去', '甜言蜜语', '铺天盖地', '进退两难', '迎刃而解', '见义勇为', '出自意外', '人事不知', '心不在焉', '人间地狱', '偷偷摸摸', '出卖灵魂', '明白了当', '义无反顾', '所剩无几', '再接再厉', '弄虚作假', '高楼大厦', '连锁反应', '明目张胆', '如出一辙', '不计其数', '倾家荡产', '一脉相承', '水深火热', '融为一体', '无所不能', '你死我活', '乌合之众', '一劳永逸', '改头换面', '马到成功', '崭露头角', '绰绰有余', '惊心动魄', '百家争鸣', '中流砥柱', '大做文章', '势在必行', '如愿以偿', '得寸进尺', '众说纷纭', '锦上添花', '光明正大', '有目共睹', '迫不得已', '便宜施行', '赤手空拳', '停滞不前', '无声无息', '天涯海角', '终身大事', '哑口无言', '彻头彻尾', '无穷无尽', '国泰民安', '微乎其微', '愤世嫉俗', '起死回生', '名过其实', '大兴土木', '触目惊心', '销声匿迹', '身体力行', '难能可贵', '日日夜夜', '瞠目结舌', '首屈一指', '臭名昭著', '卓有成效', '不顾前后', '人山人海', '惊慌失措', '无所作为', '天衣无缝', '司空见惯', '不断如带', '不约而同', '自食其力', '出其不意', '全神贯注', '令人作呕', '长途跋涉', '见死不救', '大同小异', '热泪盈眶', '独树一帜', '自觉自愿', '打破常规', '得心应手', '我行我素', '一般见识', '流离失所', '千辛万苦', '不可开交', '一日三月', '争先恐后', '一事不知', '青梅竹马', '危机四伏', '家常便饭', '危在旦夕', '绞尽脑汁', '目瞪口呆', '不了而了', '人来人往', '志同道合', '虚张声势', '瞬息万变', '雨后春笋', '无所不在', '记忆犹新', '任重道远', '听其自然', '小心谨慎', '胡作非为', '横冲直撞', '轻举妄动', '畅所欲言', '不可告人', '意味深长', '由来已久', '气急败坏', '不寒而栗', '在所难免', '栩栩如生', '时不再来', '鼓舞人心', '平起平坐', '以为后图', '前车之鉴', '同归于尽', '长篇大论', '罪大恶极', '代代相传', '奋不顾身', '变本加厉', '指日成功', '同心协力', '叹为观止', '势不可挡', '一臂之力', '冷嘲热讽', '面目全非', '信以为真', '十全十美', '潜移默化', '年复一年', '疲惫不堪', '接踵而来', '曾几何时', '家破人亡', '络绎不绝', '一生一世', '灰飞烟灭', '精疲力竭', '千真万确', '澄清天下', '以牙还牙', '危言耸听', '心平气和', '深信不疑', '一切万物', '因人而异', '一式一样', '刮目相看', '哭笑不得', '遥遥领先', '两败俱伤', '不可动摇', '玩忽职守', '闻所未闻', '堆积如山', '半途而废', '单枪匹马', '忍气吞声', '灵丹妙药', '岌岌可危', '一口一声', '指手画脚', '众目睽睽', '家家户户', '花言巧语', '天方夜谭', '不相上下', '义不容辞', '不屑一顾', '遍体鳞伤', '死亡无日', '乌烟瘴气', '寸步难行', '出于无奈', '多才多艺', '人满为患', '开门见山', '向上一路', '哗众取宠', '刻骨铭心', '津津乐道', '此起彼伏', '奄奄一息', '行之有效', '赏心悦目', '博大精深', '不怀好意', '欢欣鼓舞', '春暖花开', '如影随形', '不亦乐乎', '后台老板', '大显身手', '方兴未艾', '就事论事', '长生不老', '乐此不疲', '滥用职权', '一般无二', '国计民生', '每况愈下', '明明白白', '大庭广众', '筋疲力尽', '出类拔萃', '适可而止', '归根到底', '得不偿失', '欣欣向荣', '孤注一掷', '再生父母', '苟延残喘', '成群结队', '咄咄逼人', '推陈出新', '掉以轻心', '大势所趋', '悬而未决', '相依为命', '流言蜚语', '现身说法', '按兵不动', '刻意经营', '事与愿违', '一言为定', '子虚乌有', '先入为主', '倾盆大雨', '强奸民意', '生死存亡', '泪流满面', '罪有应得', '不以为意', '年事已高', '近在咫尺', '婆婆妈妈', '接连不断', '戒备森严', '疑似之间', '一败涂地', '一意孤行', '东山再起', '麻木不仁', '既得利益', '恰如其分', '放心解体', '无关大体', '有意无意', '天下无敌', '心安理得', '便宜行事', '灭绝人性', '无拘无束', '千篇一律', '不堪设想', '空空如也', '两手空空', '天马行空', '无敌天下', '艰苦创业', '日不我与', '后悔不及', '不知高低', '江湖骗子', '自由泛滥', '何必当初', '天地长久', '打死老虎', '稳步前进', '人间天上', '天上人间', '金刚眼睛', '相机行事', '动荡不安', '小本经营', '不可多得', '十二金牌', '长安少年', '难以预料', '分工合作', '震撼人心', '为期不远', '未知万一', '时不我与', '不日不月', '经验之谈', '开花结果', '道学先生', '天下太平', '三十三天', '举措不当', '一坐一起', '不可一世', '自出一家', '千年一律', '任其自然', '公平正直', '神经过敏', '利害相关', '无名英雄', '无所不可', '不知就里', '分别门户', '令人瞩目', '读书君子', '变化无穷', '高自位置', '未为不可', '无人之地', '破玩意儿', '无关大局', '君子协定', '重生父母', '软弱无力', '不得其死', '不知所可', '聪明正直', '不知利害', '聪明一世', '不知所出', '大肆宣传', '不敢后人', '一家老小', '一家之学', '不能自已', '一日千里', '无一不知', '一班一级', '出入生死', '变化如神', '慷慨激烈', '无所不知', '文过其实', '天下为家', '分化瓦解', '自作主张', '日以为常', '尺寸千里', '奉行故事', '以日为年', '力不能及', '风云变态', '老婆当军', '不顾大局', '天地不容', '尺寸之地', '一家无二', '老成见到', '各就各位', '不足为据', '美中不足', '言过其实', '出口伤人', '是非之心', '日就月将', '混淆是非', '不足为法', '生动活泼', '为民父母', '名高天下', '公道合理', '出人意外', '左右为难', '一日万里', '众多非一', '言行一致', '灿烂辉煌', '一至于此', '不远千里', '忘其所以', '始终如一', '艰难曲折', '既成事实', '不知颠倒', '感情用事', '拿下马来', '全神关注', '梦想颠倒', '比类从事', '风流人物', '纵横天下', '随机应变', '收因结果', '胜任愉快', '十字街头', '一表人物', '女中丈夫', '迎来送往', '送往迎来', '一些半些', '千人一面', '隔壁听话', '不足介意', '光辉灿烂', '黑白混淆', '席卷天下', '小脚女人', '混淆黑白', '不堪造就', '乐在其中', '先天不足', '欢呼鼓舞', '了了可见', '少年老成', '求之不得', '流血千里', '乐天任命', '一心一路', '万里长城', '令人注目', '难得糊涂', '真心诚意', '发财致富', '了不可见', '西方净土', '行家里手', '安心乐意', '轰动一时', '冰雪聪明', '无可如何', '孤立无助', '一门心思', '要而言之', '大有可为', '纷纷不一', '等而上之', '貌似强大', '不知所错', '事无大小', '不远万里', '教学相长', '公平无私', '是非分明', '以防万一', '一代风流', '山水相连', '上下一心', '本来面目', '百年大业', '力争上游', '流水无情', '狐狸尾巴', '手脚干净', '意义深长', '无可不可', '始终若一', '讲经说法', '月下老人', '能上能下', '扫除天下', '统筹兼顾', '顾虑重重', '左右图史', '一手一脚', '不知轻重', '杜绝人事', '一家之言', '头面人物', '动荡不定', '有一得一', '水晶灯笼', '人事代谢', '当面错过', '公正无私', '不足轻重', '自行其是', '一字一句', '方便之门', '自由放任', '流水桃花', '桃花流水', '颠倒是非', '是非颠倒', '打成一片', '孤儿寡妇', '不知起倒', '一线生机', '各有所好', '风俗人情', '人生如梦', '游戏人世', '道同志合', '鳄鱼眼泪', '格杀无论', '有色眼镜', '一日三岁', '万死一生', '黑白分明', '不分彼此', '英雄本色', '不知所云', '呼吸相通', '不知去向', '机关算尽', '大块文章', '马上看花', '万里长征', '满不在意', '纯属骗局', '立足之地', '成一家言', '无私有意', '心满意得', '里通外国', '横行天下', '禁止令行', '事在人为', '爱国如家', '地狱变相', '令行禁止', '令人发指', '两部鼓吹', '班马文章', '快心满意', '不知所言', '杀人放火', '冷酷无情', '不同戴天', '有心有意', '王公大人', '名从主人', '大树将军', '颠倒黑白', '公正廉洁', '不过尔尔', '振奋人心', '不可限量', '走马上任', '各有所长', '四海一家', '开华结果', '始终不懈', '一表人才', '有心无力', '毫不介意', '大家风范', '天王老子', '谦虚谨慎', '道在人为', '身后萧条', '反面文章', '贿赂并行', '一举千里', '原原本本', '万不得已', '古今中外', '等而下之', '理之当然', '流水高山', '一切众生', '四海他人', '造因结果', '文人学士', '网开一面', '卑鄙无耻', '言者不知', '高山流水', '指挥可定', '高官极品', '不易一字', '前因后果', '一至于斯', '一字不易', '逼不得已', '东方将白', '称心满意', '繁荣兴旺', '不知自量', '包打天下', '上下同心', '男女老小', '文献之家', '一字长城', '故我依然', '相对无言', '一点半点', '依然故我', '读书三到', '养生之道', '无尽无穷', '不知死活', '一体同心', '入死出生', '春风一度', '出生入死', '太平盛世', '再做道理', '树上开花', '十二万分', '风雨萧条', '星星点点', '见所不见', '必不得已', '不得开交', '暧昧不明', '不见天日', '一举万里', '机关用尽', '天高地下', '难以为情', '不足为意', '有我无人', '万象更新', '心手相应', '岁不我与', '情不可却', '朝野上下', '生死关头', '靠天吃饭', '在家出家', '自作聪明', '陷入僵局', '一路顺风', '击中要害', '一物不知', '天上麒麟', '人才出众', '言行不符', '举止大方', '读书得间', '风云突变', '地上天宫', '依然如故', '心中有数', '区区小事', '变化无常', '六合之内', '自我吹嘘', '再作道理', '阴谋诡计', '一举成名', '天下大乱', '天下无双', '迟疑不断', '云集响应', '用心竭力', '除旧更新', '道路以目', '有年无月', '率以为常', '情同一家', '颠倒阴阳', '同日而言', '混淆视听', '真相大白', '不顾死活', '变化多端', '立谈之间', '不管一二', '比众不同', '自我作故', '高人一等', '不知好歹', '繁荣富强', '狗屁不通', '大喊大叫', '指挥若定', '表里一致', '不近道理', '一步一鬼', '适当其冲', '家长里短', '相反相成', '艰苦朴素', '自立门户', '大江南北', '神通广大', '清平世界', '要害之地', '破除迷信', '百花生日', '有何面目', '具体而微', '思潮起伏', '迷惑视听', '男女有别', '议事日程', '各自为战', '一家之计', '通无共有', '开花结实', '极而言之', '正直无私', '从容应对', '一家一计', '表里相应', '通共有无', '扫地出门', '大发议论', '不以为奇', '不当不正', '不立文字', '大千世界', '互相标榜', '天下为公', '天工人代', '是非得失', '调和阴阳', '言行相符', '半信不信', '通力合作', '反面无情', '一面如旧', '一面之词', '冷血动物', '上方宝剑', '嚣张一时', '反复无常', '运用自如', '风行一时', '四海九州', '九州四海', '千金一刻', '一刻千金', '牛之一毛', '开国功臣', '质疑问难', '旁观者清', '一把死拿', '傲慢无礼', '当断不断', '近亲繁殖', '一家一火', '有无相通', '阴阳交错', '配套成龙', '不足为凭', '令人神往', '所在皆是', '后来居上', '快意当前', '走为上着', '千古一时', '成龙配套', '不在话下', '寓意深远', '先花后果', '三天两头', '一统天下', '火热水深', '名满天下', '北道主人', '长此以往', '遍地开花', '鱼龙变化', '新人新事', '不乏先例', '羽毛丰满', '心口相应', '同心合力', '相亲相爱', '用心用意', '神经错乱', '千人所指', '远年近日', '成人之美', '不可造次', '春风得意', '风靡一时', '清水衙门', '愚昧无知', '无所不有', '天下归心', '一面之交', '自我陶醉', '让三让再', '出口成章', '酒肉朋友', '让再让三', '迷惑不解', '东南之美', '日许时间', '各有所短', '小大由之', '心事重重', '无所不为', '漆黑一团', '来历不明', '千里一曲', '无大不大', '云过天空', '东西易面', '血肉相连', '一团漆黑', '应付自如', '天宝当年', '和睦相处', '火烧眉毛', '不失时机', '邂逅相遇', '及时行乐', '离奇古怪', '纵横交错', '格杀不论', '目不知书', '不因不由', '苍白无力', '花花世界', '一走了之', '报应不爽', '喘息之间', '天各一方', '千古一律', '自我作古', '公私兼顾', '公正不阿', '大发慈悲', '生公说法', '无可比拟', '不敢造次', '将无做有', '因果报应', '不敢自专', '小户人家', '尺寸可取', '至死不变', '出头露面', '人人皆知', '未达一间', '操纵自如', '力不能支', '地上天官', '名胜古迹', '不见经传', '没法没天', '好自为之', '得步进步', '不可奈何', '九死一生', '器满意得', '深入骨髓', '一生九死', '惊喜交集', '一身两头', '甘心情愿', '明公正道', '潇洒风流', '三星在天', '不足为奇', '暗中摸索', '花样翻新', '执法不阿', '利害得失', '含糊不明', '视为知己', '乐不可极', '把持不定', '默默无言', '不如归去', '风流潇洒', '一天一地', '儿女之情', '一方之任', '人中狮子', '不可逾越', '割据一方', '难于上天', '谈何容易', '执法如山', '破烂不堪', '能说会道', '一面之款', '贪心不足', '河东狮子', '治病救人', '鞠躬尽力', '毁于一旦', '会道能说', '千金之子', '十死一生', '绝顶聪明', '一年半载', '不由分说', '一班半点', '罗之一目', '反面教员', '四面出击', '著作等身', '平地风波', '一日之长', '油然而生', '门户之争', '八字打开', '放眼世界', '一代楷模', '循环无端', '分别部居', '广文先生', '闭门读书', '精力充沛', '没法奈何', '一家之作', '横行不法', '不可救药', '感激不尽', '适当其时', '一世龙门', '不留余地', '开阔眼界', '猖獗一时', '秀才造反', '言论风生', '同声相应', '风行水上', '尽力而为', '风行一世', '百年之好', '此事体大', '后来之秀', '精神百倍', '酒肉兄弟', '精神焕发', '无可争辩', '白衣宰相', '千秋人物', '坚强不屈', '左右两难', '决胜千里', '开国元老', '三年五载', '秀才人情', '转战千里', '大有见地', '大肆挥霍', '一无所能', '天人之际', '上下其手', '百年之约', '赞叹不已', '一无所得', '九流人物', '气象万千', '理所必然', '东道主人', '排除万难', '青山一发', '牛口之下', '互通有无', '风流罪过', '不便水土', '明公正义', '付之一笑', '大杀风景', '出何经典', '杀人如草', '弹指之间', '一定不移', '水土不服', '各有所职', '同心竭力', '亡国之声', '一人之交', '狂风暴雨', '举措失当', '英雄气短', '日中为市', '留有余地', '吉祥如意', '不服水土', '备而不用', '海外奇谈', '迟疑不定', '无与为比', '一口同声', '看菜吃饭', '将天就地', '步步莲花', '万岁千秋', '安于现状', '开基创业', '而今而后', '恩同父母', '一片汪洋', '风行电击', '摇头叹息', '别有人间', '山中宰相', '肆虐横行', '千秋万岁', '乱世英雄', '三十六行', '鱼水和谐', '又弱一个', '语不惊人', '倒因为果', '包办代替', '急不可待', '难以为继', '一时之选', '协力同心', '可有可无', '极乐世界', '庐山面目', '调理阴阳', '知名当世', '亡国大夫', '火上加油', '成败得失', '官样文章', '有声有色', '时无再来', '大而无当', '香草美人', '日落西山', '鞠躬君子', '一路风清', '一班一辈', '背前面后', '美人香草', '举世闻名', '独有千古', '墙头马上', '情景交融', '从天而下', '春秋鼎盛', '说来话长', '乐成人美', '好心好意', '一时之权', '日长一线', '成事不说', '得失成败', '鱼肉百姓', '马上墙头', '反覆无常', '九天仙女', '无私之光', '后悔无及', '举国一致', '艰难困苦', '一日万几', '天道人事', '不可胜算', '出乎意外', '不可胜道', '风流千古', '漫不经意', '高不可登', '不差上下', '同年而语', '悄然无声', '家至人说', '正经八百', '无为而成', '师道尊严', '迟疑观望', '目中无人', '名重一时', '目空一切', '不经之说', '纠缠不清', '敲诈勒索', '淡水交情', '无故呻吟', '形容憔悴', '不可终日', '开路先锋', '杀人灭口', '柴毁灭性', '相机而动', '一字千金', '聪明睿智', '功德圆满', '一手包办', '一日万机', '语言无味', '遭遇运会', '反客为主', '别有天地', '一线之路', '清廉正直', '一得之见', '一刀两段', '一路货色', '不可名状', '暧昧之情', '举世无敌', '慈悲为本', '仁义道德', '灾难深重', '英雄豪杰', '话中有话', '曾参杀人', '肆意横行', '三余读书', '前程万里', '毫无二致', '不得其所', '革命创制', '汪洋大海', '平治天下', '读书三余', '丰富多采', '时不可失', '乐不可支', '草率从事', '国将不国', '泰山北斗', '证据确凿', '旋转干坤', '变化不穷', '手足之情', '旋转乾坤', '以小见大', '不知高下', '得意之作', '稀奇古怪', '三年之艾', '天生尤物', '满脸春风', '各个击破', '忧心悄悄', '流落江湖', '天大地大', '洞察一切', '整顿干坤', '快人快事', '通同一气', '绵延不断', '出奇无穷', '于家为国', '横行霸道', '回天无力', '喝西北风', '一步登天', '大发雷霆', '至亲好友', '大得人心', '千古罪人', '罪恶深重', '不明不白', '霸道横行', '长生不死', '百年好合', '博物君子', '不安于位', '大公无私', '龙马精神', '无声无色', '不堪回首', '志满意得', '当行出色', '闭关自主', '苦难深重', '先来后到', '本乡本土', '父母之邦', '浪子回头', '一日三复', '举世瞩目', '毛发不爽', '人生如寄', '扭转乾坤', '无所不至', '囊括四海', '不败之地', '出敌意外', '扭转干坤', '借题发挥', '实与有力', '大快人心', '威信扫地', '贪污腐化', '运转时来', '明公正气', '精明能干', '胡越一家', '如出一口', '不可胜数', '时来运转', '出师有名', '聪明才智', '人心大快', '出师不利', '五黄六月', '大敌当前', '硕大无比', '改行为善', '面无人色', '千古不朽', '一支半节', '就汤下面', '掌上明珠', '人心所向', '一纸千金', '文武之道', '来处不易', '书香人家', '百死一生', '切身体会', '废然而反', '转眼之间', '一本万利', '一成不易', '脸无人色', '至当不易', '谈论风生', '步调一致', '不甘寂寞', '垂死挣扎', '大是大非', '视为儿戏', '还年却老', '不可胜言', '还年卻老', '狼狈不堪', '各有千秋', '无形之罪', '一针一线', '诚心诚意', '不识不知', '话里有话', '水木清华', '人生若寄', '事出有因', '额外主事', '无往不利', '不知凡几', '所向无前', '三星在户', '出奇取胜', '感慨万千', '出没无常', '麻痹大意', '流落天涯', '权衡轻重', '收园结果', '有生以来', '汪洋大肆', '有生力量', '地下修文', '文章盖世', '左右采获', '敌不可假', '面目一新', '老大无成', '不知端倪', '势不可当', '手到拿来', '大中至正', '一钱不名', '晴天霹雳', '街坊邻里', '出乎预料', '谈过其实', '杀人越货', '天南海北', '独有千秋', '夫妻反目', '缺一不可', '不可端倪', '百岁之后', '不名一钱', '斯文扫地', '百年之业', '举止不凡', '精神恍惚', '百般折磨', '高傲自大', '一言一行', '半路修行', '回味无穷', '恩怨分明', '万人之敌', '一死一生', '儿女成行', '血战到底', '东躲西藏', '不期而会', '进退消息', '后会有期', '小子后生', '后生小子', '厚生利用', '做好做恶', '利用厚生', '人我是非', '死去活来', '机不可失', '如日中天', '下车伊始', '开口见心', '惊喜交加', '上下同门', '求过于供', '应对如流', '热情洋溢', '供过于求', '文章山斗', '自成一家', '不知进退', '无可非议', '明日黄花', '不可胜记', '后进领袖', '从容自如', '河沙世界', '上下同欲', '自负不凡', '手高手低', '如有所失', '结发夫妻', '当头对面', '存而不论', '出师无名', '白日上升', '东洋大海', '仁义君子', '一字千秋', '科班出身', '盖世英雄', '名山事业', '人心如面', '言不顾行', '量力度德', '乌有先生', '没里没外', '诸如此比', '凤凰于飞', '完美无缺', '仪表堂堂', '长春不老', '固执成见', '徒劳往返', '往返徒劳', '计出无聊', '过时黄花', '性命关天', '就正有道', '常胜将军', '游戏笔墨', '即兴之作', '东南之宝', '大胆包身', '凭空捏造', '不省人事', '百年树人', '明教不变', '出于意表', '足不出门', '北风之恋', '两头三面', '人事不省', '用非其人', '有气无力', '全民皆兵', '思绪万千', '人民城郭', '无所不及', '是是非非', '身价百倍', '西方净国', '事出无奈', '非常之谋', '升官发财', '颠倒干坤', '师出有名', '不当人子', '疾风暴雨', '颠倒乾坤', '一无所成', '至再至三', '与人为善', '文籍先生', '各自为政', '眼中有铁', '富室大家', '以直抱怨', '分内之事', '惨淡经营', '无大无小', '磕头礼拜', '无间是非', '兼善天下', '山南海北', '将无作有', '福至心灵', '变态百出', '多快好省', '臭不可当', '三三两两', '风云变幻', '别作一眼', '灯火辉煌', '反复推敲', '一定之规', '变幻无穷', '若有所失', '激昂慷慨', '明月清风', '毫无逊色', '洗手不干', '危急存亡', '流年不利', '沉着痛快', '万世一时', '两两三三', '成名成家', '好恶不同', '慷慨激昂', '一面之识', '不禁不由', '不易之论', '清风明月', '价值连城', '中庸之道', '小道消息', '首身分离', '国步艰难', '亲密无间', '有约在先', '足足有余', '举国上下', '不及之法', '同胞共气', '东郭先生', '不得要领', '舆论哗然', '不安于室', '不安其室', '普天之下', '独当一面', '白首相知', '一笔抹杀', '不知所终', '长年三老', '床上安床', '创意造言', '白日做梦', '一场春梦', '蛮横无理', '故人之意', '二分明月', '应天从人', '云合响应', '成人之善', '六神不安', '千金一笑', '深入显出', '一笑千金', '百年大计', '不可胜计', '南郭先生', '头上著头', '老之将至', '天理良心', '分毫无爽', '一概而论', '北宫婴儿', '耳目众多', '无施不可', '一文不值', '身家性命', '借剑杀人', '负债累累', '自取灭亡', '万众一心', '苦心经营', '一路福星', '泄露天机', '活灵活现', '坎坷不平', '提名道姓', '不屑教诲', '侏儒一节', '军法从事', '感慨激昂', '一天星斗', '泄漏天机', '三番两次', '文章星斗', '大风大浪', '大发谬论', '两次三番', '下回分解', '有名无实', '药店飞龙', '绝世独立', '因人成事', '无所不作', '一根一板', '同日而论', '少气无力', '吃喝玩乐', '名目繁多', '锦绣江山', '颜面扫地', '举世无双', '旁若无人', '连日连夜', '狂妄自大', '平白无辜', '安身为乐', '例行公事', '二话不说', '头上安头', '北郭先生', '定于一尊', '黄泉之下', '迂回曲折', '落地生根', '人心所归', '大政方针', '有说有笑', '爱惜羽毛', '人世沧桑', '骨肉相连', '抱负不凡', '弱不好弄', '居停主人', '天理不容', '用天因地', '半路出家', '非同寻常', '有来无回', '东风人面', '齐心合力', '聪明绝世', '盛况空前', '不足与谋', '功德无量', '人心归向', '有一无二', '照章办事', '千岁一时', '全身远害', '送去迎来', '随地随时', '轻薄无知', '谁是谁非', '教导有方', '家破身亡', '告老在家', '大人虎变', '收回成命', '乘机打劫', '雄伟壮观', '受制于人', '冰雪严寒', '一国三公', '其道无由', '置之不顾', '驰名天下', '借刀杀人', '兼程前进', '守望相助', '饭来开口', '洛阳才子', '不知深浅', '浪子宰相', '老实巴交', '自坏长城', '十万火速', '高举深藏', '不可胜举', '存亡安危', '十十五五', '互为因果', '人心不古', '男女老少', '口角风情', '应对如响', '桂林一枝', '性命交关', '累及无辜', '居心不良', '排除异己', '不正之风', '真心真意', '绵绵不断', '指日可下', '如无其事', '不同凡响', '平地起家', '功名富贵', '原始要终', '卑鄙龌龊', '高下在手', '烽火相连', '后悔莫及', '日甚一日', '橡皮钉子', '立功赎罪', '青州从事', '干净利落', '独步当时', '众人广坐', '大打出手', '不知肉味', '依法炮制', '老有所终', '蛊惑人心', '说是道非', '力所不及', '胸中无数', '小受大走', '加人一等', '天理人情', '洪水猛兽', '形势逼人', '即小见大', '八方支持', '变动不居', '笔墨官司', '东方千骑', '冬日可爱', '急于星火', '进退可否', '见可而进', '一时之秀', '当务始终', '世道人心', '四大皆空', '爱人以德'])"
      ]
     },
     "execution_count": 97,
     "metadata": {},
     "output_type": "execute_result"
    }
   ],
   "source": [
    "words_info_dict.keys()"
   ]
  },
  {
   "cell_type": "code",
   "execution_count": 104,
   "id": "4193fd5a-4963-402e-97fc-035afc00ce7f",
   "metadata": {},
   "outputs": [
    {
     "data": {
      "text/plain": [
       "[<matplotlib.lines.Line2D at 0x7f29b9946c70>]"
      ]
     },
     "execution_count": 104,
     "metadata": {},
     "output_type": "execute_result"
    },
    {
     "data": {
      "image/png": "[encoded data removed]",
      "text/plain": [
       "<Figure size 432x288 with 1 Axes>"
      ]
     },
     "metadata": {
      "needs_background": "light"
     },
     "output_type": "display_data"
    }
   ],
   "source": [
    "plt.plot(sorted(words_info_dict['不可思议'], reverse=True))"
   ]
  },
  {
   "cell_type": "code",
   "execution_count": null,
   "id": "9e3fb5ce-709f-4d53-9626-058811565600",
   "metadata": {},
   "outputs": [],
   "source": []
  },
  {
   "cell_type": "code",
   "execution_count": 149,
   "id": "343a5f68-5fb5-44a7-846e-ccae25bd4709",
   "metadata": {
    "collapsed": true,
    "jupyter": {
     "outputs_hidden": true
    },
    "tags": []
   },
   "outputs": [
    {
     "name": "stdout",
     "output_type": "stream",
     "text": [
      "['相同: 无      | 存在别处:a      |均不存在: 1     ',\n",
      " '相同: 无      | 存在别处:无      |均不存在:s i 1  ',\n",
      " '相同: 无      | 存在别处:4      |均不存在:d i    ',\n",
      " '相同: 无      | 存在别处:无      |均不存在:f en 1 ']\n",
      "['相同: 2      | 存在别处:无      |均不存在:q iao  ',\n",
      " '相同: 无      | 存在别处:ou 3   |均不存在:sh     ',\n",
      " '相同: 3      | 存在别处:y      |均不存在:in     ',\n",
      " '相同: 无      | 存在别处:无      |均不存在:l ing 3']\n",
      "['相同: 2      | 存在别处:无      |均不存在:r en   ',\n",
      " '相同: 2      | 存在别处:y      |均不存在:an     ',\n",
      " '相同: 3      | 存在别处:无      |均不存在:k e    ',\n",
      " '相同: 4      | 存在别处:无      |均不存在:w ei   ']\n",
      "['相同: 2      | 存在别处:无      |均不存在:q i    ',\n",
      " '相同: 2      | 存在别处:无      |均不存在:l v    ',\n",
      " '相同: 3      | 存在别处:无      |均不存在:s uo   ',\n",
      " '相同: 4      | 存在别处:无      |均不存在:j u    ']\n",
      "['相同: 2      | 存在别处:无      |均不存在:p ang  ',\n",
      " '相同: 2      | 存在别处:m      |均不存在:en     ',\n",
      " '相同: 3      | 存在别处:无      |均不存在:x iao  ',\n",
      " '相同: 4      | 存在别处:无      |均不存在:d ao   ']\n",
      "['相同: 2      | 存在别处:y      |均不存在:ing    ',\n",
      " '相同: 2      | 存在别处:y      |均不存在:ing    ',\n",
      " '相同: 3      | 存在别处:y      |均不存在:i      ',\n",
      " '相同: 4      | 存在别处:无      |均不存在:j u    ']\n",
      "['相同: 2      | 存在别处:无      |均不存在:c an   ',\n",
      " '相同: 2      | 存在别处:无      |均不存在:c ong  ',\n",
      " '相同: 3      | 存在别处:n      |均不存在:iao    ',\n",
      " '相同: 4      | 存在别处:无      |均不存在:d ao   ']\n",
      "['相同: 2      | 存在别处:y      |均不存在:i      ',\n",
      " '相同: 2      | 存在别处:无      |均不存在:sh en  ',\n",
      " '相同: 3      | 存在别处:y      |均不存在:ang    ',\n",
      " '相同: 4      | 存在别处:无      |均不存在:q i    ']\n",
      "['相同: ou 2   | 存在别处:无      |均不存在:ch     ',\n",
      " '相同: 2      | 存在别处:y      |均不存在:un     ',\n",
      " '相同: 3      | 存在别处:无      |均不存在:c an   ',\n",
      " '相同: 4      | 存在别处:无      |均不存在:d an   ']\n",
      "Search 9 times， find the answer is `猴年马月`. \n"
     ]
    }
   ],
   "source": [
    "hs.solve(\"阿斯蒂芬\", target_word=\"猴年马月\", show_human=True)\n"
   ]
  },
  {
   "cell_type": "code",
   "execution_count": 79,
   "id": "86615be9-78fa-4a7f-a5bf-142bcc5e8303",
   "metadata": {},
   "outputs": [],
   "source": [
    "# hs.all_idiom_phone_list[2053]"
   ]
  },
  {
   "cell_type": "code",
   "execution_count": 99,
   "id": "3f8a6336-1213-41df-a5b5-6f91dc0fe381",
   "metadata": {},
   "outputs": [
    {
     "data": {
      "text/plain": [
       "[['yan2'], ['jing3'], ['qi3'], ['zhong3']]"
      ]
     },
     "execution_count": 99,
     "metadata": {},
     "output_type": "execute_result"
    }
   ],
   "source": [
    "target_word = \"才疏计拙\"\n",
    "candi_word = \"延颈企踵\"\n",
    "pinyin(candi_word, style=Style.TONE3, neutral_tone_with_five=True)"
   ]
  },
  {
   "cell_type": "code",
   "execution_count": 100,
   "id": "4ae88d3c-5e39-44c8-90f2-37ab36f5038e",
   "metadata": {},
   "outputs": [
    {
     "data": {
      "text/plain": [
       "[[{('2', 2)}, set(), {('an', 1), ('y', 0)}],\n",
       " [set(), {('j', 0)}, {('3', 2), ('ing', 1)}],\n",
       " [{('i', 1)}, set(), {('3', 2), ('q', 0)}],\n",
       " [{('zh', 0)}, set(), {('3', 2), ('ong', 1)}]]"
      ]
     },
     "execution_count": 100,
     "metadata": {},
     "output_type": "execute_result"
    }
   ],
   "source": [
    "candi_phone, target_phone = [i for i in hs.separate_to_phone([candi_word, target_word])]\n",
    "diff_info = hs.compare_word_phone(candi_phone['phone'], target_phone['phone'])\n",
    "diff_info"
   ]
  },
  {
   "cell_type": "code",
   "execution_count": 103,
   "id": "2d45435d-24b1-4400-b682-86c63040212b",
   "metadata": {},
   "outputs": [
    {
     "name": "stdout",
     "output_type": "stream",
     "text": [
      "{'phone': [{('2', 2), ('c', 0), ('ai', 1)}, {('1', 2), ('u', 1), ('sh', 0)}, {('4', 2), ('j', 0), ('i', 1)}, {('zh', 0), ('uo', 1), ('1', 2)}], 'word': '才疏计拙'}\n",
      "--------------------------------------------------\n",
      "['相同: 2      | 存在别处:无      |均不存在:y an   ',\n",
      " '相同: 无      | 存在别处:j      |均不存在:ing 3  ',\n",
      " '相同: i      | 存在别处:无      |均不存在:q 3    ',\n",
      " '相同: zh     | 存在别处:无      |均不存在:ong 3  ']\n"
     ]
    }
   ],
   "source": [
    "hs.word_to_human_diff(candi_word, target_word)"
   ]
  },
  {
   "cell_type": "code",
   "execution_count": 130,
   "id": "957f53c9-dcaa-45e1-8200-2474a5ba962c",
   "metadata": {
    "tags": []
   },
   "outputs": [
    {
     "data": {
      "text/plain": [
       "62"
      ]
     },
     "execution_count": 130,
     "metadata": {},
     "output_type": "execute_result"
    }
   ],
   "source": [
    "target_word = \"才疏计拙\"\n",
    "candi_word = \"姑息养奸\"\n",
    "candidate_words = hs.get_matched_set(candi_word, target_word)\n",
    "len(candidate_words)"
   ]
  },
  {
   "cell_type": "code",
   "execution_count": 119,
   "id": "0158b7fd-4e7d-4009-8f7d-9953b90b18b1",
   "metadata": {
    "collapsed": true,
    "jupyter": {
     "outputs_hidden": true
    },
    "tags": []
   },
   "outputs": [
    {
     "data": {
      "text/plain": [
       "['作如是观',\n",
       " '粝食粗衣',\n",
       " '龙骧蠖屈',\n",
       " '铄懿渊积',\n",
       " '枝外生枝',\n",
       " '国而忘家',\n",
       " '冲锋陷坚',\n",
       " '天下一家',\n",
       " '日月丽天',\n",
       " '炊臼之戚',\n",
       " '前倨后恭',\n",
       " '王孙贵戚',\n",
       " '一字兼金',\n",
       " '业业矜矜',\n",
       " '狼顾鸱张',\n",
       " '噀玉喷珠',\n",
       " '劳心焦思',\n",
       " '乱坠天花',\n",
       " '欺人自欺',\n",
       " '文章巨公',\n",
       " '一枝一栖',\n",
       " '时和岁丰',\n",
       " '卖笑追欢',\n",
       " '日迈月征',\n",
       " '日异月新',\n",
       " '龙伸蠖屈',\n",
       " '一字千秋',\n",
       " '要而论之',\n",
       " '夏虫朝菌',\n",
       " '莫逆之交',\n",
       " '贻误军机',\n",
       " '鸾孤凤只',\n",
       " '花辰月夕',\n",
       " '上楼去梯',\n",
       " '瞬息之间',\n",
       " '抽抽噎噎',\n",
       " '再造之恩',\n",
       " '日就月将',\n",
       " '成竹在胸',\n",
       " '又红又专',\n",
       " '赤子之心',\n",
       " '弢迹匿光',\n",
       " '寻幽入微',\n",
       " '亿兆一心',\n",
       " '同室操戈',\n",
       " '熠熠生辉',\n",
       " '废私立公',\n",
       " '什么意思',\n",
       " '赫斯之威',\n",
       " '闻声相思',\n",
       " '知微知彰',\n",
       " '桂子飘香',\n",
       " '刨树搜根',\n",
       " '一叶知秋',\n",
       " '一飞冲天',\n",
       " '一线生机',\n",
       " '鹤膝蜂腰',\n",
       " '同休共戚',\n",
       " '刿目怵心',\n",
       " '上援下推',\n",
       " '一诺千金',\n",
       " '力竭声嘶',\n",
       " '贼人心虚',\n",
       " '下乔入幽',\n",
       " '一刻千金',\n",
       " '禽困覆车',\n",
       " '开云见天',\n",
       " '桑间之音',\n",
       " '劳身焦思',\n",
       " '志在四方',\n",
       " '忧心悄悄',\n",
       " '疑似之间',\n",
       " '一字千钧',\n",
       " '膏泽脂香',\n",
       " '亡国之音',\n",
       " '一龙一猪',\n",
       " '风急浪高',\n",
       " '啼笑皆非',\n",
       " '落叶知秋',\n",
       " '弦外之音',\n",
       " '昃食宵衣',\n",
       " '晖光日新',\n",
       " '丰姿绰约',\n",
       " '外圆内方',\n",
       " '叶落知秋',\n",
       " '朝斯夕斯',\n",
       " '流光瞬息',\n",
       " '孽根祸胎',\n",
       " '云树之思',\n",
       " '沉默是金',\n",
       " '黔驴技孤',\n",
       " '费尽心机',\n",
       " '是非之心',\n",
       " '造谣生非',\n",
       " '铜臭熏天',\n",
       " '一人之交',\n",
       " '一笑千金',\n",
       " '文献之家',\n",
       " '泉石膏肓',\n",
       " '作贼心虚',\n",
       " '千金之家',\n",
       " '是是非非',\n",
       " '贫无置锥',\n",
       " '忧心忡忡',\n",
       " '国色天姿',\n",
       " '披露腹心',\n",
       " '趁人之危',\n",
       " '捉贼见赃',\n",
       " '双宿双飞',\n",
       " '逃之夭夭',\n",
       " '日堙月塞',\n",
       " '天各一方',\n",
       " '掐尖落钞',\n",
       " '忧国奉公',\n",
       " '内柔外刚',\n",
       " '衣食税租',\n",
       " '二龙戏珠',\n",
       " '纲挈目张',\n",
       " '月黑风高',\n",
       " '克肩一心',\n",
       " '食宿相兼',\n",
       " '同舟遇风',\n",
       " '秋月春风',\n",
       " '人急偎亲',\n",
       " '馔玉炊珠',\n",
       " '内顾之忧',\n",
       " '晨光熹微',\n",
       " '一顾千金',\n",
       " '潜神嘿规',\n",
       " '朝饔夕飧',\n",
       " '割据一方',\n",
       " '雷厉风飞',\n",
       " '赫赫巍巍',\n",
       " '用尽心机',\n",
       " '一字千金',\n",
       " '文圆质方',\n",
       " '作福作威',\n",
       " '拽象拖犀',\n",
       " '林下高风',\n",
       " '冠上加冠',\n",
       " '息息相通',\n",
       " '桂林一枝',\n",
       " '坐失事机',\n",
       " '相切相磋',\n",
       " '归十归一',\n",
       " '龙蛰蠖屈',\n",
       " '优孟衣冠',\n",
       " '才疏计拙',\n",
       " '破坚摧刚',\n",
       " '执锐披坚',\n",
       " '馔玉炊金',\n",
       " '化日光天',\n",
       " '一脉相通',\n",
       " '一傅众咻',\n",
       " '畏畏缩缩',\n",
       " '扬厉铺张',\n",
       " '心腹之忧',\n",
       " '晦迹韬光',\n",
       " '朝梁暮周',\n",
       " '华屋丘墟',\n",
       " '一朝一夕',\n",
       " '克爱克威',\n",
       " '一门心思',\n",
       " '融液贯通',\n",
       " '剖幽析微',\n",
       " '融汇贯通',\n",
       " '推陈致新',\n",
       " '时乖运拙',\n",
       " '乘人之危',\n",
       " '官运亨通',\n",
       " '高下任心',\n",
       " '寻事生非',\n",
       " '台阁生风',\n",
       " '王公贵戚',\n",
       " '罗掘一空',\n",
       " '怀恨在心',\n",
       " '时乖运乖',\n",
       " '六出纷飞',\n",
       " '一画开天',\n",
       " '利害相关',\n",
       " '寻消问息',\n",
       " '通商惠工',\n",
       " '顺过饰非',\n",
       " '罪恶昭彰',\n",
       " '做贼心虚',\n",
       " '祸乱滔天',\n",
       " '贵在知心',\n",
       " '革面悛心',\n",
       " '头眩目昏',\n",
       " '来去匆匆',\n",
       " '深入膏肓',\n",
       " '骇目振心',\n",
       " '衡虑困心',\n",
       " '人人皆知',\n",
       " '连篇累帧',\n",
       " '风和日暄',\n",
       " '巢林一枝',\n",
       " '盎盂相敲',\n",
       " '面面相窥',\n",
       " '时运亨通',\n",
       " '蜩螗沸羹',\n",
       " '前襟后裾',\n",
       " '才学兼优',\n",
       " '息息相关',\n",
       " '罪恶滔天',\n",
       " '瓜字初分',\n",
       " '自诒伊戚',\n",
       " '外柔内刚',\n",
       " '廉洁奉公',\n",
       " '一枝之栖',\n",
       " '秋毫见捐',\n",
       " '歙漆阿胶',\n",
       " '心劳日拙',\n",
       " '泄漏天机',\n",
       " '革故立新',\n",
       " '豪竹哀丝',\n",
       " '空腹高心',\n",
       " '忧公忘私',\n",
       " '十二金钗',\n",
       " '国色天香',\n",
       " '一寸赤心',\n",
       " '飘飘欲仙',\n",
       " '望岫息心',\n",
       " '云开见天',\n",
       " '幽期密约',\n",
       " '花晨月夕',\n",
       " '分劳赴功',\n",
       " '风木之思',\n",
       " '一笑置之',\n",
       " '患至呼天',\n",
       " '忘年之交',\n",
       " '囊漏贮中',\n",
       " '乐极生哀',\n",
       " '丰屋生灾',\n",
       " '学贯中西',\n",
       " '窃玉偷香',\n",
       " '温故知新',\n",
       " '众望攸归',\n",
       " '一篑之功',\n",
       " '门户之争',\n",
       " '头昏目晕',\n",
       " '捉贼捉赃',\n",
       " '畴咨之忧',\n",
       " '前呼后拥',\n",
       " '漏洩春光',\n",
       " '自出一家',\n",
       " '日炙风吹',\n",
       " '鹊巢鸠居',\n",
       " '桑间之约',\n",
       " '鼷腹鹪枝',\n",
       " '烈烈轰轰',\n",
       " '一夕一朝',\n",
       " '貌是心非',\n",
       " '成事在天',\n",
       " '公是公非',\n",
       " '撞阵冲军',\n",
       " '丰神绰约',\n",
       " '枝末生根',\n",
       " '辉光日新',\n",
       " '高下在心',\n",
       " '浞訾栗斯',\n",
       " '惩羹吹齑',\n",
       " '随声是非',\n",
       " '涕泪交加',\n",
       " '昼吟宵哭',\n",
       " '千岁鹤归',\n",
       " '知遇之恩',\n",
       " '心腹之交',\n",
       " '遗恨终天',\n",
       " '卖爵鬻官',\n",
       " '生而知之',\n",
       " '鸾凤分飞',\n",
       " '四四方方',\n",
       " '鸾胶凤丝',\n",
       " '来势汹汹',\n",
       " '文过饰非',\n",
       " '盎盂相击',\n",
       " '墨子泣丝',\n",
       " '长乐未央',\n",
       " '休戚相关',\n",
       " '桃之夭夭',\n",
       " '风姿绰约',\n",
       " '希世之珍',\n",
       " '莼鲈之思',\n",
       " '怨气冲天',\n",
       " '开路先锋',\n",
       " '四面出击',\n",
       " '随乡入乡',\n",
       " '分而治之',\n",
       " '亡国破家',\n",
       " '自贻伊戚',\n",
       " '顺藤摸瓜',\n",
       " '说是弄非',\n",
       " '声气相通',\n",
       " '人面兽心',\n",
       " '贫贱糟糠',\n",
       " '心逸日休',\n",
       " '操之过激',\n",
       " '月夜花朝',\n",
       " '寸阴是惜',\n",
       " '涎玉沫珠',\n",
       " '自卖自夸',\n",
       " '蒙混过关',\n",
       " '漏泄天机',\n",
       " '慌慌张张',\n",
       " '成算在心',\n",
       " '朝穿暮塞',\n",
       " '柔能制刚',\n",
       " '哼哼唧唧',\n",
       " '脉脉相通',\n",
       " '悄无声息',\n",
       " '昼伏夜出',\n",
       " '攻心扼吭',\n",
       " '人人自危',\n",
       " '旁见侧出',\n",
       " '厚禄高官',\n",
       " '文章宗工',\n",
       " '啼啼哭哭',\n",
       " '祸福相依',\n",
       " '柔能克刚',\n",
       " '财运亨通',\n",
       " '混淆是非',\n",
       " '狼子兽心',\n",
       " '穷寇勿追',\n",
       " '融会贯通',\n",
       " '穷途之哭',\n",
       " '乐事劝功',\n",
       " '横见侧出',\n",
       " '磨砻镌切',\n",
       " '自视甚高',\n",
       " '霜露之思',\n",
       " '先公后私',\n",
       " '龙章凤姿',\n",
       " '遗臭千秋',\n",
       " '飞龙在天',\n",
       " '人强胜天',\n",
       " '衔冤负屈',\n",
       " '气充志骄',\n",
       " '纷纷拥拥',\n",
       " '非昔是今',\n",
       " '灼见真知',\n",
       " '黄台之瓜',\n",
       " '陈陈相因',\n",
       " '花朝月夕',\n",
       " '绸缪束薪',\n",
       " '搔头弄姿',\n",
       " '一掷千金',\n",
       " '月异日新',\n",
       " '后顾之忧',\n",
       " '天下归心',\n",
       " '旁敲侧击',\n",
       " '魂飞魄丧',\n",
       " '望峰息心',\n",
       " '时移势迁',\n",
       " '诚至金开',\n",
       " '悠悠忽忽',\n",
       " '刻画入微',\n",
       " '招是生非',\n",
       " '上下一心',\n",
       " '牛衣夜哭',\n",
       " '面目一新',\n",
       " '论列是非',\n",
       " '贫无立锥',\n",
       " '一字一珠',\n",
       " '西台痛哭',\n",
       " '秀外慧中',\n",
       " '漏脯充饥',\n",
       " '落叶归根',\n",
       " '峣峣易缺',\n",
       " '云过天空',\n",
       " '气竭声澌',\n",
       " '身无立锥',\n",
       " '一室生春',\n",
       " '自成一家',\n",
       " '换日偷天',\n",
       " '梦见周公',\n",
       " '鸥鹭忘机',\n",
       " '移孝作忠',\n",
       " '寸量铢称',\n",
       " '诟龟呼天',\n",
       " '为国捐躯',\n",
       " '排糠障风',\n",
       " '随圆就方',\n",
       " '亲上做亲',\n",
       " '人亡政息',\n",
       " '穷寇莫追',\n",
       " '离蔬释屩',\n",
       " '一面之交',\n",
       " '添油炽薪',\n",
       " '气势汹汹',\n",
       " '偷偷摸摸',\n",
       " '公而忘私',\n",
       " '一路顺风',\n",
       " '破旧立新',\n",
       " '叶落归根',\n",
       " '其势汹汹',\n",
       " '忧国忘家',\n",
       " '鸢肩羔膝',\n",
       " '国无二君',\n",
       " '略迹论心',\n",
       " '望闻问切',\n",
       " '披裘负薪',\n",
       " '殷浩书空',\n",
       " '一团漆黑',\n",
       " '人世沧桑',\n",
       " '势穷力屈',\n",
       " '豺狐之心',\n",
       " '日益月滋',\n",
       " '字字珠玑',\n",
       " '文章钜公',\n",
       " '退食自公',\n",
       " '天下汹汹',\n",
       " '隙穴之窥',\n",
       " '郑卫之音',\n",
       " '池鱼之殃',\n",
       " '剖玄析微',\n",
       " '贫贱之知',\n",
       " '日居月诸',\n",
       " '摧锋陷坚',\n",
       " '日累月积',\n",
       " '桑中之约',\n",
       " '气竭声嘶',\n",
       " '唾壶敲缺',\n",
       " '乘胜追击',\n",
       " '人众胜天',\n",
       " '融释贯通',\n",
       " '月夕花朝',\n",
       " '穷而后工',\n",
       " '放屁添风',\n",
       " '在家出家',\n",
       " '投刃皆虚',\n",
       " '融会通浃',\n",
       " '深藏若虚',\n",
       " '漏泄春光',\n",
       " '利欲熏心',\n",
       " '贫贱之交',\n",
       " '心浮气粗',\n",
       " '格物致知',\n",
       " '糟糠之妻',\n",
       " '陷落计中',\n",
       " '讳疾忌医',\n",
       " '唾壶击缺',\n",
       " '窃据要津',\n",
       " '同文共规',\n",
       " '下车作威',\n",
       " '赘食太仓',\n",
       " '议论纷纷',\n",
       " '因任授官',\n",
       " '华屋秋墟',\n",
       " '常胜将军',\n",
       " '活色生香',\n",
       " '元方季方',\n",
       " '一弛一张',\n",
       " '众目昭彰',\n",
       " '划粥割齑',\n",
       " '尤而效之',\n",
       " '毫厘丝忽',\n",
       " '密约偷期',\n",
       " '席上之珍',\n",
       " '狼突鸱张',\n",
       " '面是心非',\n",
       " '利害攸关',\n",
       " '秋月春花',\n",
       " '一壶千金',\n",
       " '切切在心',\n",
       " '推陈出新',\n",
       " '缧绁之忧']"
      ]
     },
     "execution_count": 119,
     "metadata": {},
     "output_type": "execute_result"
    }
   ],
   "source": [
    "candidate_words"
   ]
  },
  {
   "cell_type": "code",
   "execution_count": 133,
   "id": "96dc859f-5254-423f-97e8-7d885d9f2f70",
   "metadata": {
    "tags": []
   },
   "outputs": [
    {
     "data": {
      "text/plain": [
       "(1, ['才疏计拙'])"
      ]
     },
     "execution_count": 133,
     "metadata": {},
     "output_type": "execute_result"
    }
   ],
   "source": [
    "candidate_words = hs.get_matched_set(candidate_words[np.random.randint(0, len(candidate_words))], target_word)\n",
    "len(candidate_words), candidate_words\n",
    "# candidate_words"
   ]
  },
  {
   "cell_type": "code",
   "execution_count": 144,
   "id": "42eec666-57ba-4e90-90f3-76184bf19f31",
   "metadata": {},
   "outputs": [],
   "source": [
    "# epd_diff = [\n",
    "#     {('3', 2), ('iu', 1), ('j', 0)},\n",
    "#     {('i', 1), ('d', 0), ('k', 0), ('zh', 0), ('3', 2), ('f', 0), ('uo', 1), ('e', 1), ('p', 0), ('an', 1), ('x', 0), ('ong', 1), ('5', 2), ('s', 0), ('ia', 1), ('ve', 1), ('iao', 1), ('en', 1), ('ou', 1), ('r', 0), ('g', 0), ('ing', 1), ('2', 2), ('ao', 1), ('n', 0), ('uei', 1), ('4', 2), ('a', 1), ('uan', 1), ('o', 1), ('v', 1), ('ei', 1), ('u', 1), ('ang', 1), ('in', 1), ('van', 1), ('c', 0), ('ch', 0), ('j', 0), ('ai', 1), ('eng', 1), ('iang', 1), ('m', 0), ('l', 0), ('iong', 1), ('sh', 0), ('z', 0), ('ueng', 1), ('1', 2), ('uang', 1), ('ua', 1), ('ê', 1), ('uen', 1), ('ie', 1), ('b', 0), ('h', 0), ('', 0), ('q', 0), ('iou', 1), ('uai', 1), ('ian', 1), ('er', 1), ('vn', 1), ('t', 0)},\n",
    "#     {('i', 1), ('y', 0), ('4', 2)},\n",
    "#     {('i', 1), ('d', 0), ('k', 0), ('zh', 0), ('3', 2), ('f', 0), ('uo', 1), ('e', 1), ('p', 0), ('an', 1), ('x', 0), ('ong', 1), ('5', 2), ('s', 0), ('ia', 1), ('ve', 1), ('iao', 1), ('en', 1), ('ou', 1), ('r', 0), ('g', 0), ('ing', 1), ('2', 2), ('ao', 1), ('n', 0), ('uei', 1), ('4', 2), ('a', 1), ('uan', 1), ('o', 1), ('v', 1), ('ei', 1), ('u', 1), ('ang', 1), ('in', 1), ('van', 1), ('c', 0), ('ch', 0), ('j', 0), ('ai', 1), ('iang', 1), ('m', 0), ('l', 0), ('iong', 1), ('z', 0), ('ueng', 1), ('uang', 1), ('ua', 1), ('ê', 1), ('uen', 1), ('ie', 1), ('b', 0), ('h', 0), ('', 0), ('q', 0), ('iou', 1), ('uai', 1), ('ian', 1), ('er', 1), ('vn', 1), ('t', 0)},\n",
    "#     ]          "
   ]
  },
  {
   "cell_type": "code",
   "execution_count": null,
   "id": "d9e51022-8224-42c8-ac3a-9dbe5a8815c4",
   "metadata": {},
   "outputs": [],
   "source": [
    "epd_diff = hs.expand_diff_info(diff_info)"
   ]
  },
  {
   "cell_type": "code",
   "execution_count": 145,
   "id": "60155504-7d71-42cb-8666-da9fcf2f083b",
   "metadata": {},
   "outputs": [
    {
     "data": {
      "text/plain": [
       "[{('3', 2), ('iu', 1), ('j', 0)},\n",
       " {('2', 2), ('iu', 1), ('n', 0)},\n",
       " {('4', 2), ('i', 1), ('y', 0)},\n",
       " {('2', 2), ('ao', 1), ('m', 0)}]"
      ]
     },
     "execution_count": 145,
     "metadata": {},
     "output_type": "execute_result"
    }
   ],
   "source": [
    "target = hs.all_idiom_phone_list[2053]['phone']\n",
    "target"
   ]
  },
  {
   "cell_type": "code",
   "execution_count": 162,
   "id": "85a1f48b-dcac-4e6b-8351-54dc6d91c3ca",
   "metadata": {},
   "outputs": [
    {
     "data": {
      "text/plain": [
       "False"
      ]
     },
     "execution_count": 162,
     "metadata": {},
     "output_type": "execute_result"
    }
   ],
   "source": [
    "hs.match(target, epd_diff)"
   ]
  },
  {
   "cell_type": "code",
   "execution_count": 187,
   "id": "e6e7ced5-740d-473e-8048-152fea6557c2",
   "metadata": {},
   "outputs": [],
   "source": [
    "from sparrow import load\n",
    "import matplotlib.pyplot as plt"
   ]
  },
  {
   "cell_type": "code",
   "execution_count": 97,
   "id": "18e0baec-25ef-436d-af66-b0895e1ded54",
   "metadata": {},
   "outputs": [],
   "source": [
    "words_entropy_dict, words_info_dict = load_words_entropy_info_dict()\n",
    "\n",
    "df = dict_topk(words_entropy_dict, 20)"
   ]
  },
  {
   "cell_type": "code",
   "execution_count": 98,
   "id": "d6b55336-ed28-4cf1-8633-b6255b96829e",
   "metadata": {
    "collapsed": true,
    "jupyter": {
     "outputs_hidden": true
    },
    "tags": []
   },
   "outputs": [
    {
     "data": {
      "text/html": [
       "<div>\n",
       "<style scoped>\n",
       "    .dataframe tbody tr th:only-of-type {\n",
       "        vertical-align: middle;\n",
       "    }\n",
       "\n",
       "    .dataframe tbody tr th {\n",
       "        vertical-align: top;\n",
       "    }\n",
       "\n",
       "    .dataframe thead th {\n",
       "        text-align: right;\n",
       "    }\n",
       "</style>\n",
       "<table border=\"1\" class=\"dataframe\">\n",
       "  <thead>\n",
       "    <tr style=\"text-align: right;\">\n",
       "      <th></th>\n",
       "      <th>key</th>\n",
       "      <th>value</th>\n",
       "    </tr>\n",
       "  </thead>\n",
       "  <tbody>\n",
       "    <tr>\n",
       "      <th>8875</th>\n",
       "      <td>延颈企踵</td>\n",
       "      <td>6.778073</td>\n",
       "    </tr>\n",
       "    <tr>\n",
       "      <th>2762</th>\n",
       "      <td>以勤补拙</td>\n",
       "      <td>6.773024</td>\n",
       "    </tr>\n",
       "    <tr>\n",
       "      <th>1866</th>\n",
       "      <td>举鼎拔山</td>\n",
       "      <td>6.716944</td>\n",
       "    </tr>\n",
       "    <tr>\n",
       "      <th>6537</th>\n",
       "      <td>圆颅方趾</td>\n",
       "      <td>6.699962</td>\n",
       "    </tr>\n",
       "    <tr>\n",
       "      <th>4839</th>\n",
       "      <td>勇往直前</td>\n",
       "      <td>6.693151</td>\n",
       "    </tr>\n",
       "    <tr>\n",
       "      <th>11995</th>\n",
       "      <td>敢勇当先</td>\n",
       "      <td>6.688779</td>\n",
       "    </tr>\n",
       "    <tr>\n",
       "      <th>9207</th>\n",
       "      <td>当局者迷</td>\n",
       "      <td>6.687874</td>\n",
       "    </tr>\n",
       "    <tr>\n",
       "      <th>12089</th>\n",
       "      <td>文婪武嬉</td>\n",
       "      <td>6.685304</td>\n",
       "    </tr>\n",
       "    <tr>\n",
       "      <th>1863</th>\n",
       "      <td>举贤使能</td>\n",
       "      <td>6.665308</td>\n",
       "    </tr>\n",
       "    <tr>\n",
       "      <th>2310</th>\n",
       "      <td>五劳七伤</td>\n",
       "      <td>6.663366</td>\n",
       "    </tr>\n",
       "    <tr>\n",
       "      <th>9817</th>\n",
       "      <td>急于星火</td>\n",
       "      <td>6.662783</td>\n",
       "    </tr>\n",
       "    <tr>\n",
       "      <th>9838</th>\n",
       "      <td>急管繁弦</td>\n",
       "      <td>6.653588</td>\n",
       "    </tr>\n",
       "    <tr>\n",
       "      <th>5468</th>\n",
       "      <td>反求诸己</td>\n",
       "      <td>6.647640</td>\n",
       "    </tr>\n",
       "    <tr>\n",
       "      <th>8330</th>\n",
       "      <td>尺有所短</td>\n",
       "      <td>6.646520</td>\n",
       "    </tr>\n",
       "    <tr>\n",
       "      <th>2752</th>\n",
       "      <td>以党举官</td>\n",
       "      <td>6.643147</td>\n",
       "    </tr>\n",
       "    <tr>\n",
       "      <th>10717</th>\n",
       "      <td>扯鼓夺旗</td>\n",
       "      <td>6.637640</td>\n",
       "    </tr>\n",
       "    <tr>\n",
       "      <th>6536</th>\n",
       "      <td>圆顶方趾</td>\n",
       "      <td>6.636080</td>\n",
       "    </tr>\n",
       "    <tr>\n",
       "      <th>1826</th>\n",
       "      <td>举一反三</td>\n",
       "      <td>6.632451</td>\n",
       "    </tr>\n",
       "    <tr>\n",
       "      <th>7582</th>\n",
       "      <td>姑息养奸</td>\n",
       "      <td>6.630323</td>\n",
       "    </tr>\n",
       "    <tr>\n",
       "      <th>5307</th>\n",
       "      <td>博览古今</td>\n",
       "      <td>6.630178</td>\n",
       "    </tr>\n",
       "  </tbody>\n",
       "</table>\n",
       "</div>"
      ],
      "text/plain": [
       "        key     value\n",
       "8875   延颈企踵  6.778073\n",
       "2762   以勤补拙  6.773024\n",
       "1866   举鼎拔山  6.716944\n",
       "6537   圆颅方趾  6.699962\n",
       "4839   勇往直前  6.693151\n",
       "11995  敢勇当先  6.688779\n",
       "9207   当局者迷  6.687874\n",
       "12089  文婪武嬉  6.685304\n",
       "1863   举贤使能  6.665308\n",
       "2310   五劳七伤  6.663366\n",
       "9817   急于星火  6.662783\n",
       "9838   急管繁弦  6.653588\n",
       "5468   反求诸己  6.647640\n",
       "8330   尺有所短  6.646520\n",
       "2752   以党举官  6.643147\n",
       "10717  扯鼓夺旗  6.637640\n",
       "6536   圆顶方趾  6.636080\n",
       "1826   举一反三  6.632451\n",
       "7582   姑息养奸  6.630323\n",
       "5307   博览古今  6.630178"
      ]
     },
     "execution_count": 98,
     "metadata": {},
     "output_type": "execute_result"
    }
   ],
   "source": [
    "df"
   ]
  },
  {
   "cell_type": "code",
   "execution_count": 188,
   "id": "9c276777-4db1-42d9-9fa8-4ba119b7da39",
   "metadata": {},
   "outputs": [],
   "source": [
    "\n",
    "plt.plot(sorted(words_info_dict['姑息养奸'], reverse=True))\n",
    "plt.plot(sorted(words_info_dict['昏昏噩噩'], reverse=True))\n",
    "plt.plot(sorted(words_info_dict['五音不全'], reverse=True))"
   ]
  }
 ],
 "metadata": {
  "kernelspec": {
   "display_name": "Python 3 (ipykernel)",
   "language": "python",
   "name": "python3"
  },
  "language_info": {
   "codemirror_mode": {
    "name": "ipython",
    "version": 3
   },
   "file_extension": ".py",
   "mimetype": "text/x-python",
   "name": "python",
   "nbconvert_exporter": "python",
   "pygments_lexer": "ipython3",
   "version": "3.8.12"
  }
 },
 "nbformat": 4,
 "nbformat_minor": 5
}
